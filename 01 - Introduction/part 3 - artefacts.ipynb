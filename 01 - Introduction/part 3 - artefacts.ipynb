{
 "cells": [
  {
   "cell_type": "markdown",
   "metadata": {},
   "source": [
    "### Potential Targets (clutter)!\n",
    "\n",
    "Any object within the path of the EM wave will results in scattering. The magnitude and stability of the scattering relates to the target's size and movements. Non-meteorological targets are a hinderance for climate studies, but have many uses otherwise, including radar calibration and ecological monitoring.\n",
    "\n",
    "\n",
    "- Ground\n",
    "- Buildings\n",
    "- Ships\n",
    "- Aircraft\n",
    "- Powerlines\n",
    "- Birds/bats\n",
    "- Insects\n",
    "- Unidentified Objects!?\n"
   ]
  },
  {
   "cell_type": "code",
   "execution_count": null,
   "metadata": {},
   "outputs": [],
   "source": [
    "# 3 animated examples in here: terrain (IDR95), insects (IDR02) and ships (IDR03)"
   ]
  },
  {
   "cell_type": "markdown",
   "metadata": {},
   "source": [
    "### Changes in atmopsheric refraction (anomalous propagation)\n",
    "\n",
    "EM wave propagation is sensitivty to temperature and humidity gradients. It is assumed that air temperature and humidity decline at a standard rate in the troposphere, but this is often not the case. Temperature or humidity inversions near the ground increase the refractive index and bend radiowaves back towards the ground, instead of continuing their propagation away from the earth surface. This results in:\n",
    "\n",
    "- More of everything (even without topography)\n",
    "- Sea (includes waves picked up as Doppler velocity)"
   ]
  },
  {
   "cell_type": "code",
   "execution_count": null,
   "metadata": {},
   "outputs": [],
   "source": [
    "# example showing sea clutter appearing - so many radars to pick from"
   ]
  },
  {
   "cell_type": "markdown",
   "metadata": {},
   "source": [
    "### Removing clutter\n",
    "\n",
    "Reflectivity (DBZH) products in the open radar archive have been processed to remove most ground clutter (some can still sneak through). It is still difficult to remove smaller, non-stationary targets from single polarimetric data. Fortunately most of these clutter targets are of low reflectivity and can be removed using simple reflectivity masks, or Doppler velocity masks."
   ]
  },
  {
   "cell_type": "code",
   "execution_count": null,
   "metadata": {},
   "outputs": [],
   "source": [
    "#show IDR95 clutter removal"
   ]
  },
  {
   "cell_type": "markdown",
   "metadata": {},
   "source": [
    "### Other more complex issues\n",
    "\n",
    "- Side lobes (weaker returns outside main radar beams, mostly in older radars, outside of radar beam)\n",
    "- Noise from older recievers\n",
    "- Triple body scatter spikes (from hailstorms)"
   ]
  },
  {
   "cell_type": "code",
   "execution_count": null,
   "metadata": {},
   "outputs": [],
   "source": [
    "#show side lobes around hail cores (lots of examples)"
   ]
  }
 ],
 "metadata": {
  "kernelspec": {
   "display_name": "Python [conda env:radar-dev] *",
   "language": "python",
   "name": "conda-env-radar-dev-py"
  },
  "language_info": {
   "codemirror_mode": {
    "name": "ipython",
    "version": 3
   },
   "file_extension": ".py",
   "mimetype": "text/x-python",
   "name": "python",
   "nbconvert_exporter": "python",
   "pygments_lexer": "ipython3",
   "version": "3.7.6"
  }
 },
 "nbformat": 4,
 "nbformat_minor": 4
}
