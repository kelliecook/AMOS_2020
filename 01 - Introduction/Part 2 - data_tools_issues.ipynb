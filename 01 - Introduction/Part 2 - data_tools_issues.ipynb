{
 "cells": [
  {
   "cell_type": "markdown",
   "metadata": {},
   "source": [
    "## Datasets\n",
    "\n",
    "<img align=\"right\" width=\"300\" src=\"http://www.openradar.io/img/logo.svg.png\">\n",
    "\n",
    "Weather radar datasets hosted on NCI consists of different product levels, namely:\n",
    "\n",
    "- Level 1: Uncorrected radar data in the native spherical coordinates. Typically used if you want to generate indepth products/analysis.\n",
    "\n",
    "- Level 2: Derived products in 2D cartesian coodinates using corrected radar data. These products are typically at a set altitude and include rainfall rate, classification , echo top height etc. Data is organised into daily netcdf files for rapid analysis using tools like xarrays. Corrections applied included those for attenuation, clutter removal and reflectivity calibration. \n",
    "\n",
    "For this tutorial we are using two weather radar datasets:\n",
    "\n",
    "- Valentin will be teaching using the CPOL radar dataset, which is hosted on NCI under project hj10. CPOL radar was a polarimetric research weather radar in Darwin that operated from 1997-2017. The extra polarimetric information (which related to precipitation type) this radar provides more robust retrievals of rainfall rate than the Z-R relationship. Data from this project can be accessed on NCI and will be published for public access by June 2020 via NCI. Level 1 data can be downloaded from the [ARM website](https://www.arm.gov/capabilities/instruments/cpol). To use this dataset, please contact Valentin.\n",
    "\n",
    "- Joshua will be teaching using the [Australian operation radar dataset](http://openradar.io/), which is hosted on NCI under project rq0. This dataset contains 700+ years of weather radar data from the Australian network of 70+ radars and level 1 data updated daily. The level 1 data from this project is published, and level 2 data will be published by June 2020. To use the level 1 data, please reference the following [doi](http://dx.doi.org/10.25914/5cb686a8d9450). A majority of radar data in this archive in non-polarimetric. To use the level 2 dataset, please contact Joshua.\n",
    "\n",
    "---\n"
   ]
  },
  {
   "cell_type": "markdown",
   "metadata": {},
   "source": [
    "## Python (3.6+) Tools\n",
    "\n",
    "Specific Radar Tools (for processing level 1 data)\n",
    "\n",
    "- [PyART](https://arm-doe.github.io/pyart/): is a Python module containing a collection of weather radar algorithms and utilities. Py-ART is used by the Atmospheric Radiation Measurement (ARM) Climate Research Facility for working with data from a number of its precipitation and cloud radars, but has been designed so that it can be used by others in the radar and atmospheric communities to examine, processes, and analyze data from many types of weather radars.\n",
    "\n",
    "- [wradlib](https://docs.wradlib.org/en/stable/): The ωradlib project has been initiated in order facilitate the use of weather radar data as well as to provide a common platform for research on new algorithms. ωradlib is designed to assist you in the most important steps of processing weather radar data. These may include: reading common data formats, georeferencing, converting reflectivity to rainfall intensity, identifying and correcting typical error sources (such as clutter or attenuation) and visualising the data.\n",
    "\n",
    "Data Processing Tools\n",
    "\n",
    "- [netCDF4](https://unidata.github.io/netcdf4-python/netCDF4/index.html): Python interface to the netCDF version 4 library (.nc files).\n",
    "- [HDF5](https://www.hdfgroup.org/solutions/hdf5/): a Pythonic interface to the HDF5 binary data format (format used for Australian operational radars).\n",
    "- [xarray](http://xarray.pydata.org/en/stable/): a package that makes working with labelled multi-dimensional arrays simple, efficient, and fun! allows for a more intuitive, more concise, and less error-prone experience! Builds upon the interfaces that pandas uses.\n",
    "- [pandas](https://pandas.pydata.org/): like xarray but for tables (smart excel-like tools) \n",
    "\n",
    "Editor Tools\n",
    "\n",
    "- [Jupyter Notebook](https://jupyter.org/): Provides an interactive browser-based environment for developing code\n",
    "- [Pangeo Binder](https://binder.pangeo.io/): Turns a code repository into a collection of interactive Jupyter Notebooks without needing a Python environment on your local computer (used Google Compute Engine)\n",
    "\n",
    "_How cool is that?_\n",
    "\n",
    "<img align=\"left\" width=\"300\" src=\"https://pangeo-binder.readthedocs.io/en/prod/_images/binder_logo.png\">"
   ]
  },
  {
   "cell_type": "markdown",
   "metadata": {},
   "source": [
    "# Non-meteorological returns (clutter)\n",
    "\n",
    "The follow section introduces non-meteorological returns with weather radar (like an observations).\n",
    "It is important to be aware of these issues when processing long time-series of data.\n",
    "\n",
    "For some scientists these returns provide a unique dataset! e.g., [Meade et al. 2019](https://www.nature.com/articles/s41598-019-46549-2)"
   ]
  },
  {
   "cell_type": "markdown",
   "metadata": {},
   "source": [
    "### Sources\n",
    "\n",
    "Any object within the path of the EM wave will results in scattering. The magnitude and stability of the scattering relates to the target's size and movements. Non-meteorological targets are a hindrance for climate studies, but have many uses otherwise, including radar calibration and ecological monitoring.\n",
    "\n",
    "\n",
    "- Ground\n",
    "- Buildings\n",
    "- Ships\n",
    "- Aircraft\n",
    "- Power lines\n",
    "- Birds/bats\n",
    "- Insects\n",
    "- Suspended ash from bushfires\n",
    "- Unidentified Objects!?\n"
   ]
  },
  {
   "cell_type": "markdown",
   "metadata": {},
   "source": [
    "<img align=\"center\" width=\"800\" src=\"img/IDR71_20191221.gif\">\n",
    "\n",
    "<img align=\"center\" width=\"800\" src=\"img/IDR63_20191225.gif\">"
   ]
  },
  {
   "cell_type": "markdown",
   "metadata": {},
   "source": [
    "### Changes in atmospheric refraction (anomalous propagation)\n",
    "\n",
    "EM wave propagation is sensitivity to temperature and humidity gradients. It is assumed that air temperature and humidity decline at a standard rate in the troposphere, but this is often not the case. Temperature or humidity inversions near the ground increase the refractive index and bend radiowaves back towards the ground, instead of continuing their propagation away from the earth surface. This results in:\n",
    "\n",
    "- Enhanced group targets\n",
    "- Sea clutter"
   ]
  },
  {
   "cell_type": "markdown",
   "metadata": {},
   "source": [
    "<img align=\"center\" width=\"800\" src=\"img/IDR29_20191225.gif\">"
   ]
  },
  {
   "cell_type": "markdown",
   "metadata": {},
   "source": [
    "### Removing clutter\n",
    "\n",
    "Reflectivity (DBZH) products in the level 2 open radar archive have been processed to remove most ground clutter (some can still sneak through). It is still difficult to remove smaller, non-stationary targets from single polarimetric data. Fortunately most clutter are stationary and can be removed by looking at the persistence of high reflectivity or using zero Doppler velocity."
   ]
  },
  {
   "cell_type": "markdown",
   "metadata": {},
   "source": [
    "The new Rainbow, VIC weather radar (80km NW of Horsham)\n",
    "\n",
    "<img align=\"left\" width=\"400\" height=\"400\" src=\"img/IDR95_TH.png\" border=\"5\">"
   ]
  },
  {
   "cell_type": "markdown",
   "metadata": {},
   "source": [
    "<img align=\"left\" width=\"400\" height=\"400\" src=\"img/IDR95_DBZH.png\" border=\"5\">"
   ]
  },
  {
   "cell_type": "markdown",
   "metadata": {},
   "source": [
    "<img align=\"left\" width=\"400\" height=\"400\" src=\"img/IDR95_satellite.png\" border=\"5\">"
   ]
  },
  {
   "cell_type": "markdown",
   "metadata": {},
   "source": [
    "### Other more complex issues\n",
    "\n",
    "- Side lobes (weaker returns outside main radar beams, mostly an issue in older radar data)\n",
    "- Noise from signal processors\n",
    "- Triple body scatter spikes (from hailstorms)"
   ]
  },
  {
   "cell_type": "markdown",
   "metadata": {},
   "source": [
    "Marburg radar (50) showing side lobe returns around strong hail cores for the 27-11-2014 hailstorm in Brisbane.\n",
    "\n",
    "<img align=\"center\" width=\"1200\" src=\"img/50_20141127_0641.png\">\n",
    "\n",
    "<img align=\"center\" width=\"1200\" src=\"https://courses.comet.ucar.edu/pluginfile.php/3704/mod_imscp/content/1/sidelobe.gif\">"
   ]
  },
  {
   "cell_type": "code",
   "execution_count": null,
   "metadata": {},
   "outputs": [],
   "source": []
  }
 ],
 "metadata": {
  "kernelspec": {
   "display_name": "Python [conda env:radar-dev] *",
   "language": "python",
   "name": "conda-env-radar-dev-py"
  },
  "language_info": {
   "codemirror_mode": {
    "name": "ipython",
    "version": 3
   },
   "file_extension": ".py",
   "mimetype": "text/x-python",
   "name": "python",
   "nbconvert_exporter": "python",
   "pygments_lexer": "ipython3",
   "version": "3.6.7"
  }
 },
 "nbformat": 4,
 "nbformat_minor": 4
}
